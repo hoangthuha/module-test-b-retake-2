{
 "cells": [
  {
   "cell_type": "code",
   "execution_count": null,
   "metadata": {},
   "outputs": [],
   "source": [
    "import pandas as pd\n",
    "import numpy as np\n",
    "%matplotlib inline"
   ]
  },
  {
   "cell_type": "markdown",
   "metadata": {},
   "source": [
    "# B | Module Test"
   ]
  },
  {
   "cell_type": "markdown",
   "metadata": {},
   "source": [
    "<!-- BEGIN QUESTION -->\n",
    "\n",
    "## Part I&nbsp;&nbsp;&nbsp;&nbsp;&nbsp;&nbsp;(10 Points)"
   ]
  },
  {
   "cell_type": "code",
   "execution_count": null,
   "metadata": {
    "tags": []
   },
   "outputs": [],
   "source": [
    "# Write your shell commands here\n",
    "git clone https://github.com/hoangthuha/module-test-b-retake-2.git\n",
    "cd module-test-b-retake-2/\n",
    "mkdir test_x3\n",
    "touch test_x3/fcsB\n",
    "git add .\n",
    "git commit -m \"first commit\"\n",
    "git push\n"
   ]
  },
  {
   "cell_type": "markdown",
   "metadata": {},
   "source": [
    "Your solution to this question should **also** include file, submitted alongside this notebook."
   ]
  },
  {
   "cell_type": "markdown",
   "metadata": {},
   "source": [
    "<!-- BEGIN QUESTION -->\n",
    "\n",
    "## Part II&nbsp;&nbsp;&nbsp;&nbsp;&nbsp;&nbsp;(10 Points)"
   ]
  },
  {
   "cell_type": "markdown",
   "metadata": {
    "tags": []
   },
   "source": [
    "Your solution to this question should be a file, submitted alongside this notebook."
   ]
  },
  {
   "cell_type": "markdown",
   "metadata": {},
   "source": [
    "<!-- END QUESTION -->\n",
    "\n",
    "<!-- BEGIN QUESTION -->\n",
    "\n",
    "## Part III&nbsp;&nbsp;&nbsp;&nbsp;&nbsp;&nbsp;(30 Points)"
   ]
  },
  {
   "cell_type": "code",
   "execution_count": null,
   "metadata": {
    "tags": []
   },
   "outputs": [],
   "source": [
    "# Write your test cases and comments here\n",
    "\n",
    "# TC1: Normal test case to test behaviour\n",
    "a = 2\n",
    "b = 10\n",
    "\n",
    "# TC2: Edge test case, test if a = b\n",
    "a = 5\n",
    "b = 5\n",
    "\n",
    "# TC3: Unintended test case, test if a > b\n",
    "a = 6\n",
    "b = 2"
   ]
  },
  {
   "cell_type": "code",
   "execution_count": null,
   "metadata": {
    "tags": []
   },
   "outputs": [],
   "source": [
    "# Write the fixed code here\n",
    "# A program to print all numbers between 2 values (including both values).\n",
    "a=2\n",
    "b=10\n",
    "\n",
    "num = a\n",
    "while a <= b: #including both values so we should add \"=\"\n",
    "    print(num)\n",
    "    num = num + 1\n"
   ]
  },
  {
   "cell_type": "markdown",
   "metadata": {},
   "source": [
    "Write your debugging steps here"
   ]
  },
  {
   "cell_type": "markdown",
   "metadata": {},
   "source": [
    "<!-- END QUESTION -->\n",
    "\n",
    "<!-- BEGIN QUESTION -->\n",
    "\n",
    "## Part IV&nbsp;&nbsp;&nbsp;&nbsp;&nbsp;&nbsp;(50 Points)"
   ]
  },
  {
   "cell_type": "code",
   "execution_count": null,
   "metadata": {
    "tags": []
   },
   "outputs": [],
   "source": [
    "# Write your shell commands here\n",
    "#1\n",
    "mkdir part_iv\n",
    "cd part_iv\n",
    "git init\n",
    "touch README.md\n",
    "touch LICENSE\n",
    "\n",
    "#2\n",
    "mkdir directory1\n",
    "cd directory1\n",
    "mkdir directory2\n",
    "touch directory2/file2\n",
    "touch file1\n",
    "cd ..\n",
    "mkdir directory3\n",
    "touch directory3/file3\n",
    "\n",
    "#3\n",
    "git add . \n",
    "git commit -m \"first commit\"\n",
    "\n",
    "#4\n",
    "git checkout -b newfeature\n",
    "\n",
    "#5\n",
    "mkdire directort1/directory2/directory4\n",
    "mv directory1/directory2/file2 directory1/directory2/directory4\n",
    "mv directory1/file1 directory1/directory2\n",
    "cp -r directory3 directory3_copy\n",
    "\n",
    "#6\n",
    "git add .\n",
    "git commit -m \"new branch\"\n",
    "git checkout master\n",
    "git checkout -b newfeature2\n",
    "\n",
    "#7\n",
    "rm -r directory1/directory2\n",
    "y\n",
    "y\n",
    "y\n",
    "mv directory1/file1 directory1/directory3/\n",
    "touch directory1/newfile1\n",
    "\n",
    "git add .\n",
    "git commit -m \"branch2\"\n",
    "\n",
    "git checkout newfeature\n",
    "git merge newfeature2\n",
    "git add .\n",
    "git commit -m \"merge\""
   ]
  },
  {
   "cell_type": "markdown",
   "metadata": {},
   "source": [
    "Your solution to this question should **also** include a file, submitted alongside this notebook."
   ]
  }
 ],
 "metadata": {
  "celltoolbar": "Edit Metadata",
  "kernelspec": {
   "display_name": "Python 3",
   "language": "python",
   "name": "python3"
  },
  "language_info": {
   "codemirror_mode": {
    "name": "ipython",
    "version": 3
   },
   "file_extension": ".py",
   "mimetype": "text/x-python",
   "name": "python",
   "nbconvert_exporter": "python",
   "pygments_lexer": "ipython3",
   "version": "3.6.13"
  },
  "varInspector": {
   "cols": {
    "lenName": 16,
    "lenType": 16,
    "lenVar": 40
   },
   "kernels_config": {
    "python": {
     "delete_cmd_postfix": "",
     "delete_cmd_prefix": "del ",
     "library": "var_list.py",
     "varRefreshCmd": "print(var_dic_list())"
    },
    "r": {
     "delete_cmd_postfix": ") ",
     "delete_cmd_prefix": "rm(",
     "library": "var_list.r",
     "varRefreshCmd": "cat(var_dic_list()) "
    }
   },
   "types_to_exclude": [
    "module",
    "function",
    "builtin_function_or_method",
    "instance",
    "_Feature"
   ],
   "window_display": false
  }
 },
 "nbformat": 4,
 "nbformat_minor": 4
}
